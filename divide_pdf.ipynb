{
 "cells": [
  {
   "cell_type": "code",
   "execution_count": 1,
   "metadata": {},
   "outputs": [
    {
     "name": "stdout",
     "output_type": "stream",
     "text": [
      "Collecting PyPDF2\n",
      "  Downloading pypdf2-3.0.1-py3-none-any.whl (232 kB)\n",
      "Requirement already satisfied: typing_extensions>=3.10.0.0 in c:\\users\\guilherme.lawrence_i\\anaconda3\\lib\\site-packages (from PyPDF2) (4.1.1)\n",
      "Installing collected packages: PyPDF2\n",
      "Successfully installed PyPDF2-3.0.1\n",
      "Note: you may need to restart the kernel to use updated packages.\n"
     ]
    }
   ],
   "source": [
    "pip install PyPDF2"
   ]
  },
  {
   "cell_type": "code",
   "execution_count": 12,
   "metadata": {},
   "outputs": [],
   "source": [
    "#separate pdf pages into individual files\n",
    "#https://stackoverflow.com/questions/3444645/how-to-split-a-pdf-file-by-pages-using-python\n",
    "\n",
    "import PyPDF2\n",
    "import os\n",
    "\n",
    "def split_pdf(input_path, output_dir):\n",
    "    pdf = PyPDF2.PdfReader(input_path)\n",
    "    for page in range(len(pdf.pages)):\n",
    "        pdf_writer = PyPDF2.PdfWriter()\n",
    "        pdf_writer.add_page(pdf.pages[page])\n",
    "\n",
    "        output_filename = 'page_{}.pdf'.format(page+1)\n",
    "\n",
    "        with open(os.path.join(output_dir, output_filename), 'wb') as out:\n",
    "            pdf_writer.write(out)\n",
    "\n",
    "        print('Created: {}'.format(output_filename))"
   ]
  },
  {
   "cell_type": "code",
   "execution_count": 15,
   "metadata": {},
   "outputs": [
    {
     "name": "stdout",
     "output_type": "stream",
     "text": [
      "Created: page_1.pdf\n",
      "Created: page_2.pdf\n"
     ]
    }
   ],
   "source": [
    "#list of pdf files\n",
    "pdfs = ['rg.pdf']\n",
    "\n",
    "for pdf in pdfs:\n",
    "    split_pdf(pdf, 'C:\\\\Users\\\\guilherme.lawrence_i\\\\Desktop')\n",
    "    "
   ]
  }
 ],
 "metadata": {
  "kernelspec": {
   "display_name": "Python 3",
   "language": "python",
   "name": "python3"
  },
  "language_info": {
   "codemirror_mode": {
    "name": "ipython",
    "version": 3
   },
   "file_extension": ".py",
   "mimetype": "text/x-python",
   "name": "python",
   "nbconvert_exporter": "python",
   "pygments_lexer": "ipython3",
   "version": "3.10.2 (tags/v3.10.2:a58ebcc, Jan 17 2022, 14:12:15) [MSC v.1929 64 bit (AMD64)]"
  },
  "orig_nbformat": 4,
  "vscode": {
   "interpreter": {
    "hash": "8b34a9ca5cddd8342edf297a1c2c3ad46d09fec0b303b603b8a6b5d8148f17fa"
   }
  }
 },
 "nbformat": 4,
 "nbformat_minor": 2
}
