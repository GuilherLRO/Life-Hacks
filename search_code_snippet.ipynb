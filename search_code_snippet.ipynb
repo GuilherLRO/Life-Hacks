{
 "cells": [
  {
   "cell_type": "code",
   "execution_count": null,
   "metadata": {},
   "outputs": [],
   "source": [
    "import os\n",
    "\n",
    "# Set the directory you want to list\n",
    "directory = \"\"\n",
    "\n",
    "# Use the os.listdir() function to list the files in the directory\n",
    "files = os.listdir(directory)\n",
    "\n",
    "for file in files:\n",
    "    # Open the file in read mode\n",
    "    with open(directory + '\\\\' + file, 'r',encoding = 'utf-8') as f:\n",
    "        # Read the contents of the file\n",
    "        contents = f.read()\n",
    "        # Check if the string 's3' is present in the file\n",
    "        if 's3' in contents:\n",
    "            print(file)"
   ]
  }
 ],
 "metadata": {
  "kernelspec": {
   "display_name": "Python 3",
   "language": "python",
   "name": "python3"
  },
  "language_info": {
   "codemirror_mode": {
    "name": "ipython",
    "version": 3
   },
   "file_extension": ".py",
   "mimetype": "text/x-python",
   "name": "python",
   "nbconvert_exporter": "python",
   "pygments_lexer": "ipython3",
   "version": "3.10.2"
  },
  "orig_nbformat": 4,
  "vscode": {
   "interpreter": {
    "hash": "8b34a9ca5cddd8342edf297a1c2c3ad46d09fec0b303b603b8a6b5d8148f17fa"
   }
  }
 },
 "nbformat": 4,
 "nbformat_minor": 2
}
