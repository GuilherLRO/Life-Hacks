{
 "cells": [
  {
   "cell_type": "code",
   "execution_count": null,
   "metadata": {},
   "outputs": [],
   "source": [
    "import os\n",
    "\n",
    "# Set the directory you want to list\n",
    "directory = ''\n",
    "\n",
    "# Use the os.listdir() function to list the files in the directory\n",
    "files = os.listdir(directory)\n",
    "\n",
    "for file in files[10]:\n",
    "    # Open the file in read mode\n",
    "    with open(directory + '\\\\' + files[1], 'r') as f:\n",
    "            print(f.read())"
   ]
  }
 ],
 "metadata": {
  "kernelspec": {
   "display_name": "Python 3",
   "language": "python",
   "name": "python3"
  },
  "language_info": {
   "codemirror_mode": {
    "name": "ipython",
    "version": 3
   },
   "file_extension": ".py",
   "mimetype": "text/x-python",
   "name": "python",
   "nbconvert_exporter": "python",
   "pygments_lexer": "ipython3",
   "version": "3.10.2 (tags/v3.10.2:a58ebcc, Jan 17 2022, 14:12:15) [MSC v.1929 64 bit (AMD64)]"
  },
  "orig_nbformat": 4,
  "vscode": {
   "interpreter": {
    "hash": "8b34a9ca5cddd8342edf297a1c2c3ad46d09fec0b303b603b8a6b5d8148f17fa"
   }
  }
 },
 "nbformat": 4,
 "nbformat_minor": 2
}
